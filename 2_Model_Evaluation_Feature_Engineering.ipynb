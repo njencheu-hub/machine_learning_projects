{
  "cells": [
    {
      "cell_type": "markdown",
      "metadata": {
        "colab_type": "text",
        "id": "view-in-github"
      },
      "source": [
        "<a href=\"https://colab.research.google.com/github/Raiyan-DEA/Dataframe_content/blob/main/2_Model_Evaluation_Feature_Engineering.ipynb\" target=\"_parent\"><img src=\"https://colab.research.google.com/assets/colab-badge.svg\" alt=\"Open In Colab\"/></a>"
      ]
    },
    {
      "cell_type": "code",
      "execution_count": 3,
      "metadata": {
        "id": "-A6pXNIRoN5s"
      },
      "outputs": [],
      "source": [
        "# STEP 1: Install and Import Required Libraries\n",
        "!pip install -q imbalanced-learn\n",
        "\n",
        "import pandas as pd\n",
        "import numpy as np\n",
        "import matplotlib.pyplot as plt\n",
        "import seaborn as sns\n",
        "\n",
        "from sklearn.model_selection import train_test_split\n",
        "from sklearn.preprocessing import StandardScaler, LabelEncoder\n",
        "from sklearn.linear_model import LogisticRegression\n",
        "from sklearn.metrics import classification_report, confusion_matrix\n",
        "from imblearn.over_sampling import SMOTE"
      ]
    },
    {
      "cell_type": "code",
      "execution_count": 4,
      "metadata": {
        "id": "znh-7LG2ojai"
      },
      "outputs": [],
      "source": [
        "# STEP 2: Load Dataset (Telco Churn)\n",
        "# url = \"https://raw.githubusercontent.com/blastchar/telco-churn/master/WA_Fn-UseC_-Telco-Customer-Churn.csv\"\n",
        "df = pd.read_csv(r'C:\\Users\\georg\\OneDrive\\Desktop\\DEA\\Python for Analytics\\Machine Learning\\WA_Fn-UseC_-Telco-Customer-Churn.csv')\n",
        "df.dropna(inplace=True)\n"
      ]
    },
    {
      "cell_type": "code",
      "execution_count": 5,
      "metadata": {
        "id": "mqUs7GsCpRxb"
      },
      "outputs": [],
      "source": [
        "# STEP 3: Encode Target Column\n",
        "le = LabelEncoder()\n",
        "df['Churn'] = le.fit_transform(df['Churn'])"
      ]
    },
    {
      "cell_type": "code",
      "execution_count": 6,
      "metadata": {
        "colab": {
          "base_uri": "https://localhost:8080/"
        },
        "id": "zoXMe-F4pbIZ",
        "outputId": "bf2755e1-4815-4cd8-f7db-c3865c13f70c"
      },
      "outputs": [
        {
          "name": "stdout",
          "output_type": "stream",
          "text": [
            "0       0\n",
            "1       0\n",
            "2       1\n",
            "3       0\n",
            "4       1\n",
            "       ..\n",
            "7038    0\n",
            "7039    0\n",
            "7040    0\n",
            "7041    1\n",
            "7042    0\n",
            "Name: Churn, Length: 7043, dtype: int32\n"
          ]
        }
      ],
      "source": [
        "print(df['Churn'])"
      ]
    },
    {
      "cell_type": "code",
      "execution_count": 7,
      "metadata": {
        "id": "HcClwDZCphWQ"
      },
      "outputs": [],
      "source": [
        "# STEP 4: Convert Non-Numeric Columns\n",
        "cat_cols = df.select_dtypes(include='object').columns.drop('customerID')\n",
        "df = pd.get_dummies(df, columns=cat_cols, drop_first=True)\n"
      ]
    },
    {
      "cell_type": "code",
      "execution_count": 8,
      "metadata": {
        "id": "QvbhROGxpliy"
      },
      "outputs": [],
      "source": [
        "# STEP 5: Train/Test Split\n",
        "X = df.drop(['customerID', 'Churn'], axis=1)\n",
        "y = df['Churn']\n",
        "\n",
        "X_train, X_test, y_train, y_test = train_test_split(X, y, test_size=0.35, random_state=42)\n",
        "\n"
      ]
    },
    {
      "cell_type": "code",
      "execution_count": 9,
      "metadata": {
        "id": "MbxyNhBippZX"
      },
      "outputs": [],
      "source": [
        "# STEP 6: Feature Scaling\n",
        "scaler = StandardScaler()\n",
        "X_train_scaled = scaler.fit_transform(X_train)\n",
        "X_test_scaled = scaler.transform(X_test)"
      ]
    },
    {
      "cell_type": "code",
      "execution_count": 10,
      "metadata": {
        "id": "4jxf4QDZptUa"
      },
      "outputs": [],
      "source": [
        "# STEP 7: Train Logistic Regression\n",
        "model = LogisticRegression(max_iter=1000)\n",
        "model.fit(X_train_scaled, y_train)\n",
        "y_pred = model.predict(X_test_scaled)\n"
      ]
    },
    {
      "cell_type": "code",
      "execution_count": 11,
      "metadata": {
        "colab": {
          "base_uri": "https://localhost:8080/"
        },
        "id": "QOtreJUIp1u9",
        "outputId": "5b40b2f0-0440-4f8c-f6da-8c46b00c2994"
      },
      "outputs": [
        {
          "name": "stdout",
          "output_type": "stream",
          "text": [
            "Before Handling Imbalance\n",
            "[[1612  185]\n",
            " [ 348  321]]\n",
            "              precision    recall  f1-score   support\n",
            "\n",
            "           0       0.82      0.90      0.86      1797\n",
            "           1       0.63      0.48      0.55       669\n",
            "\n",
            "    accuracy                           0.78      2466\n",
            "   macro avg       0.73      0.69      0.70      2466\n",
            "weighted avg       0.77      0.78      0.77      2466\n",
            "\n"
          ]
        }
      ],
      "source": [
        "# STEP 8: Evaluate Model (Before Balancing)\n",
        "print(\"Before Handling Imbalance\")\n",
        "print(confusion_matrix(y_test, y_pred))\n",
        "print(classification_report(y_test, y_pred))\n"
      ]
    },
    {
      "cell_type": "markdown",
      "metadata": {},
      "source": [
        "Before SMOTE (Imbalanced)\n",
        "\n",
        "True Negatives (TN): 1612 (non-churn predicted correctly)\n",
        "\n",
        "False Positives (FP): 185 (non-churn predicted as churn)\n",
        "\n",
        "False Negatives (FN): 348 (missed churners)\n",
        "\n",
        "True Positives (TP): 321 (churn predicted correctly)"
      ]
    },
    {
      "cell_type": "code",
      "execution_count": 12,
      "metadata": {
        "id": "xo91J3Dip6Xj"
      },
      "outputs": [],
      "source": [
        "# STEP 9: Handle Imbalanced Classes with SMOTE\n",
        "smote = SMOTE(random_state=42)\n",
        "X_res, y_res = smote.fit_resample(X_train_scaled, y_train)\n",
        "\n",
        "model_smote = LogisticRegression(max_iter=1000)\n",
        "model_smote.fit(X_res, y_res)\n",
        "y_pred_smote = model_smote.predict(X_test_scaled)"
      ]
    },
    {
      "cell_type": "code",
      "execution_count": 13,
      "metadata": {
        "colab": {
          "base_uri": "https://localhost:8080/"
        },
        "id": "ojx9_g65qI60",
        "outputId": "5aa0d12a-564e-4a25-b978-36df4b5eea6d"
      },
      "outputs": [
        {
          "name": "stdout",
          "output_type": "stream",
          "text": [
            "After Handling Imbalance (SMOTE)\n",
            "[[1550  247]\n",
            " [ 308  361]]\n",
            "              precision    recall  f1-score   support\n",
            "\n",
            "           0       0.83      0.86      0.85      1797\n",
            "           1       0.59      0.54      0.57       669\n",
            "\n",
            "    accuracy                           0.77      2466\n",
            "   macro avg       0.71      0.70      0.71      2466\n",
            "weighted avg       0.77      0.77      0.77      2466\n",
            "\n"
          ]
        }
      ],
      "source": [
        "# STEP 10: Evaluate Model (After SMOTE)\n",
        "print(\"After Handling Imbalance (SMOTE)\")\n",
        "print(confusion_matrix(y_test, y_pred_smote))\n",
        "print(classification_report(y_test, y_pred_smote))\n",
        "\n"
      ]
    },
    {
      "cell_type": "markdown",
      "metadata": {},
      "source": [
        "After SMOTE (Balanced)\n",
        "\n",
        "Slight drop in TN (1550 vs. 1612)\n",
        "\n",
        "More churners correctly identified: 361 vs. 321\n",
        "\n",
        "Fewer missed churners (FN): 308 vs. 348"
      ]
    },
    {
      "cell_type": "code",
      "execution_count": null,
      "metadata": {},
      "outputs": [],
      "source": [
        "# Classification Report Comparison\n",
        "# Metric\t      Class\t    Before\tAfter\tInterpretation\n",
        "# Precision\t     1 (churn)\t0.63\t0.59\tSlight drop — more false positives after balancing\n",
        "# Recall\t     1 (churn)\t0.48\t0.54\tImproved — fewer missed churners, key for churn!\n",
        "# F1-score\t     1 (churn)\t0.55\t0.57\tSmall gain — better overall churn class performance\n",
        "# Accuracy       Overall\t0.78\t0.77\tSlight dip — expected when trying to fix imbalance\n",
        "# Macro Avg F1\t All\t    0.70\t0.71\tImproved — better balance between churn and non-churn"
      ]
    },
    {
      "cell_type": "code",
      "execution_count": null,
      "metadata": {},
      "outputs": [],
      "source": [
        "# Interpretation\n",
        "\n",
        "# What Improved\n",
        "# Recall for churners (class 1) increased from 48% → 54%, meaning the model is now catching more actual churners.\n",
        "\n",
        "# F1-score for churners also increased slightly (55% → 57%).\n",
        "\n",
        "# What Slightly Declined\n",
        "# Precision for churners dropped (63% → 59%) → you're now predicting \"churn\" more often, \n",
        "# but with slightly more false positives.\n",
        "\n",
        "# Overall accuracy dropped a little (78% → 77%) — but this is expected when focusing more on minority class performance.\n",
        "\n",
        "# Business Takeaway\n",
        "# Before balancing, the model was biased toward predicting non-churners, missing over half of actual churners.\n",
        "\n",
        "# After SMOTE, the model became better at catching churners, \n",
        "# which is crucial in churn analysis, even at the cost of some false alarms.\n",
        "\n",
        "# In practice, missing a churner is more costly than a false positive, so this trade-off is likely worth it.\n",
        "\n",
        "# # Recommendation\n",
        "# Use the SMOTE-balanced model if your goal is to retain customers \n",
        "# — better recall means you’ll catch more likely churners and can act on them.\n",
        "\n",
        "# Consider threshold tuning (e.g., predict_proba with a custom threshold) or cost-sensitive learning \n",
        "# to optimize for churn recall further.\n",
        "\n",
        "# # Plot an ROC or Precision-Recall curve to visualize this trade-off more clearly."
      ]
    },
    {
      "cell_type": "code",
      "execution_count": 15,
      "metadata": {
        "id": "rLOjNMwgqNJa"
      },
      "outputs": [
        {
          "data": {
            "image/png": "[encoded data removed]",
            "text/plain": [
              "<Figure size 1000x600 with 1 Axes>"
            ]
          },
          "metadata": {},
          "output_type": "display_data"
        }
      ],
      "source": [
        "# STEP 11: Feature Importance\n",
        "importance = pd.Series(model_smote.coef_[0], index=X.columns).sort_values(ascending=False)\n",
        "plt.figure(figsize=(10, 6))\n",
        "importance.head(15).plot(kind='barh')\n",
        "plt.title(\"Top 15 Important Features\")\n",
        "plt.gca().invert_yaxis()\n",
        "plt.savefig('top_15_important_features.png')\n",
        "plt.show()"
      ]
    }
  ],
  "metadata": {
    "colab": {
      "authorship_tag": "ABX9TyMAXKqsd0WiXuxVNMIO48A7",
      "include_colab_link": true,
      "provenance": []
    },
    "kernelspec": {
      "display_name": "profiling_env",
      "language": "python",
      "name": "python3"
    },
    "language_info": {
      "codemirror_mode": {
        "name": "ipython",
        "version": 3
      },
      "file_extension": ".py",
      "mimetype": "text/x-python",
      "name": "python",
      "nbconvert_exporter": "python",
      "pygments_lexer": "ipython3",
      "version": "3.11.11"
    }
  },
  "nbformat": 4,
  "nbformat_minor": 0
}
