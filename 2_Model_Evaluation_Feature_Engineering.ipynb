{
  "nbformat": 4,
  "nbformat_minor": 0,
  "metadata": {
    "colab": {
      "provenance": [],
      "authorship_tag": "ABX9TyMAXKqsd0WiXuxVNMIO48A7",
      "include_colab_link": true
    },
    "kernelspec": {
      "name": "python3",
      "display_name": "Python 3"
    },
    "language_info": {
      "name": "python"
    }
  },
  "cells": [
    {
      "cell_type": "markdown",
      "metadata": {
        "id": "view-in-github",
        "colab_type": "text"
      },
      "source": [
        "<a href=\"https://colab.research.google.com/github/Raiyan-DEA/Dataframe_content/blob/main/2_Model_Evaluation_Feature_Engineering.ipynb\" target=\"_parent\"><img src=\"https://colab.research.google.com/assets/colab-badge.svg\" alt=\"Open In Colab\"/></a>"
      ]
    },
    {
      "cell_type": "code",
      "execution_count": 5,
      "metadata": {
        "id": "-A6pXNIRoN5s"
      },
      "outputs": [],
      "source": [
        "# STEP 1: Install and Import Required Libraries\n",
        "!pip install -q imbalanced-learn\n",
        "\n",
        "import pandas as pd\n",
        "import numpy as np\n",
        "import matplotlib.pyplot as plt\n",
        "import seaborn as sns\n",
        "\n",
        "from sklearn.model_selection import train_test_split\n",
        "from sklearn.preprocessing import StandardScaler, LabelEncoder\n",
        "from sklearn.linear_model import LogisticRegression\n",
        "from sklearn.metrics import classification_report, confusion_matrix\n",
        "from imblearn.over_sampling import SMOTE"
      ]
    },
    {
      "cell_type": "code",
      "source": [
        "# STEP 2: Load Dataset (Telco Churn)\n",
        "# url = \"https://raw.githubusercontent.com/blastchar/telco-churn/master/WA_Fn-UseC_-Telco-Customer-Churn.csv\"\n",
        "df = pd.read_csv('/content/WA_Fn-UseC_-Telco-Customer-Churn.csv')\n",
        "df.dropna(inplace=True)\n"
      ],
      "metadata": {
        "id": "znh-7LG2ojai"
      },
      "execution_count": 16,
      "outputs": []
    },
    {
      "cell_type": "code",
      "source": [
        "# STEP 3: Encode Target Column\n",
        "le = LabelEncoder()\n",
        "df['Churn'] = le.fit_transform(df['Churn'])"
      ],
      "metadata": {
        "id": "mqUs7GsCpRxb"
      },
      "execution_count": 17,
      "outputs": []
    },
    {
      "cell_type": "code",
      "source": [
        "print(df['Churn'])"
      ],
      "metadata": {
        "colab": {
          "base_uri": "https://localhost:8080/"
        },
        "id": "zoXMe-F4pbIZ",
        "outputId": "bf2755e1-4815-4cd8-f7db-c3865c13f70c"
      },
      "execution_count": 19,
      "outputs": [
        {
          "output_type": "stream",
          "name": "stdout",
          "text": [
            "0       0\n",
            "1       0\n",
            "2       1\n",
            "3       0\n",
            "4       1\n",
            "       ..\n",
            "7038    0\n",
            "7039    0\n",
            "7040    0\n",
            "7041    1\n",
            "7042    0\n",
            "Name: Churn, Length: 7043, dtype: int64\n"
          ]
        }
      ]
    },
    {
      "cell_type": "code",
      "source": [
        "# STEP 4: Convert Non-Numeric Columns\n",
        "cat_cols = df.select_dtypes(include='object').columns.drop('customerID')\n",
        "df = pd.get_dummies(df, columns=cat_cols, drop_first=True)\n"
      ],
      "metadata": {
        "id": "HcClwDZCphWQ"
      },
      "execution_count": 20,
      "outputs": []
    },
    {
      "cell_type": "code",
      "source": [
        "# STEP 5: Train/Test Split\n",
        "X = df.drop(['customerID', 'Churn'], axis=1)\n",
        "y = df['Churn']\n",
        "\n",
        "X_train, X_test, y_train, y_test = train_test_split(X, y, test_size=0.35, random_state=42)\n",
        "\n"
      ],
      "metadata": {
        "id": "QvbhROGxpliy"
      },
      "execution_count": 21,
      "outputs": []
    },
    {
      "cell_type": "code",
      "source": [
        "# STEP 6: Feature Scaling\n",
        "scaler = StandardScaler()\n",
        "X_train_scaled = scaler.fit_transform(X_train)\n",
        "X_test_scaled = scaler.transform(X_test)"
      ],
      "metadata": {
        "id": "MbxyNhBippZX"
      },
      "execution_count": 22,
      "outputs": []
    },
    {
      "cell_type": "code",
      "source": [
        "# STEP 7: Train Logistic Regression\n",
        "model = LogisticRegression(max_iter=1000)\n",
        "model.fit(X_train_scaled, y_train)\n",
        "y_pred = model.predict(X_test_scaled)\n"
      ],
      "metadata": {
        "id": "4jxf4QDZptUa"
      },
      "execution_count": 24,
      "outputs": []
    },
    {
      "cell_type": "code",
      "source": [
        "# STEP 8: Evaluate Model (Before Balancing)\n",
        "print(\"Before Handling Imbalance\")\n",
        "print(confusion_matrix(y_test, y_pred))\n",
        "print(classification_report(y_test, y_pred))\n"
      ],
      "metadata": {
        "colab": {
          "base_uri": "https://localhost:8080/"
        },
        "id": "QOtreJUIp1u9",
        "outputId": "5b40b2f0-0440-4f8c-f6da-8c46b00c2994"
      },
      "execution_count": 25,
      "outputs": [
        {
          "output_type": "stream",
          "name": "stdout",
          "text": [
            "Before Handling Imbalance\n",
            "[[1612  185]\n",
            " [ 348  321]]\n",
            "              precision    recall  f1-score   support\n",
            "\n",
            "           0       0.82      0.90      0.86      1797\n",
            "           1       0.63      0.48      0.55       669\n",
            "\n",
            "    accuracy                           0.78      2466\n",
            "   macro avg       0.73      0.69      0.70      2466\n",
            "weighted avg       0.77      0.78      0.77      2466\n",
            "\n"
          ]
        }
      ]
    },
    {
      "cell_type": "code",
      "source": [
        "# STEP 9: Handle Imbalanced Classes with SMOTE\n",
        "smote = SMOTE(random_state=42)\n",
        "X_res, y_res = smote.fit_resample(X_train_scaled, y_train)\n",
        "\n",
        "model_smote = LogisticRegression(max_iter=1000)\n",
        "model_smote.fit(X_res, y_res)\n",
        "y_pred_smote = model_smote.predict(X_test_scaled)"
      ],
      "metadata": {
        "id": "xo91J3Dip6Xj"
      },
      "execution_count": 26,
      "outputs": []
    },
    {
      "cell_type": "code",
      "source": [
        "# STEP 10: Evaluate Model (After SMOTE)\n",
        "print(\"After Handling Imbalance (SMOTE)\")\n",
        "print(confusion_matrix(y_test, y_pred_smote))\n",
        "print(classification_report(y_test, y_pred_smote))\n",
        "\n"
      ],
      "metadata": {
        "colab": {
          "base_uri": "https://localhost:8080/"
        },
        "id": "ojx9_g65qI60",
        "outputId": "5aa0d12a-564e-4a25-b978-36df4b5eea6d"
      },
      "execution_count": 27,
      "outputs": [
        {
          "output_type": "stream",
          "name": "stdout",
          "text": [
            "After Handling Imbalance (SMOTE)\n",
            "[[1550  247]\n",
            " [ 308  361]]\n",
            "              precision    recall  f1-score   support\n",
            "\n",
            "           0       0.83      0.86      0.85      1797\n",
            "           1       0.59      0.54      0.57       669\n",
            "\n",
            "    accuracy                           0.77      2466\n",
            "   macro avg       0.71      0.70      0.71      2466\n",
            "weighted avg       0.77      0.77      0.77      2466\n",
            "\n"
          ]
        }
      ]
    },
    {
      "cell_type": "code",
      "source": [
        "# STEP 11: Feature Importance\n",
        "importance = pd.Series(model_smote.coef_[0], index=X.columns).sort_values(ascending=False)\n",
        "plt.figure(figsize=(10, 6))\n",
        "importance.head(15).plot(kind='barh')\n",
        "plt.title(\"Top 15 Important Features\")\n",
        "plt.gca().invert_yaxis()\n",
        "plt.show()"
      ],
      "metadata": {
        "id": "rLOjNMwgqNJa"
      },
      "execution_count": null,
      "outputs": []
    }
  ]
}
